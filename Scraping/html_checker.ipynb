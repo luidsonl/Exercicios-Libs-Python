{
 "cells": [
  {
   "cell_type": "markdown",
   "metadata": {},
   "source": [
    "# Scraping para verificar se determinados textos existem no HTML de determinadas páginas"
   ]
  },
  {
   "cell_type": "markdown",
   "metadata": {},
   "source": [
    "## Importa bibliotecas"
   ]
  },
  {
   "cell_type": "code",
   "execution_count": 1,
   "metadata": {},
   "outputs": [
    {
     "name": "stderr",
     "output_type": "stream",
     "text": [
      "/tmp/ipykernel_7766/3968713983.py:2: DeprecationWarning: \n",
      "Pyarrow will become a required dependency of pandas in the next major release of pandas (pandas 3.0),\n",
      "(to allow more performant data types, such as the Arrow string type, and better interoperability with other libraries)\n",
      "but was not found to be installed on your system.\n",
      "If this would cause problems for you,\n",
      "please provide us feedback at https://github.com/pandas-dev/pandas/issues/54466\n",
      "        \n",
      "  import pandas as pd\n"
     ]
    }
   ],
   "source": [
    "import requests\n",
    "import pandas as pd\n",
    "import os"
   ]
  },
  {
   "cell_type": "markdown",
   "metadata": {},
   "source": [
    "## Define algumas variáveis importantes"
   ]
  },
  {
   "cell_type": "code",
   "execution_count": 2,
   "metadata": {},
   "outputs": [],
   "source": [
    "URL_COLUMN = 'url'\n",
    "QUERY_COLUMN = 'texto'\n",
    "DATABASE_DIRECTORY = 'entrada'"
   ]
  },
  {
   "cell_type": "markdown",
   "metadata": {},
   "source": [
    "## Define algumas funções convenientes"
   ]
  },
  {
   "cell_type": "code",
   "execution_count": 3,
   "metadata": {},
   "outputs": [],
   "source": [
    "def add_df_to_list(df: pd.DataFrame, df_list: list):\n",
    "    if (URL_COLUMN in df.columns and QUERY_COLUMN in df.columns):\n",
    "            filtered_df = df[[URL_COLUMN, QUERY_COLUMN]]\n",
    "            df_list.append(filtered_df)\n",
    "\n",
    "def generate_df(path: str):\n",
    "     if path.endswith('.xlsx'):\n",
    "          return pd.read_excel(path)\n",
    "     if path.endswith('.csv'):\n",
    "          return pd.read_csv(path)"
   ]
  },
  {
   "cell_type": "markdown",
   "metadata": {},
   "source": [
    "## Pega os dataframes e gera a lista"
   ]
  },
  {
   "cell_type": "code",
   "execution_count": 4,
   "metadata": {},
   "outputs": [],
   "source": [
    "files = os.listdir(DATABASE_DIRECTORY)\n",
    "df_list = []\n",
    "\n",
    "for file in files:\n",
    "    path = DATABASE_DIRECTORY + '/' + file\n",
    "    df = generate_df(path)\n",
    "    if(type(df) == pd.DataFrame):\n",
    "        add_df_to_list(df, df_list)\n",
    "\n",
    "        "
   ]
  },
  {
   "cell_type": "markdown",
   "metadata": {},
   "source": [
    "## Percorre a lista verificando se as páginas contem um determinado texto no html"
   ]
  },
  {
   "cell_type": "code",
   "execution_count": 5,
   "metadata": {},
   "outputs": [],
   "source": [
    "final_list = []\n",
    "url = ''\n",
    "response = ''\n",
    "\n",
    "for df in df_list:\n",
    "    for index, row in df.iterrows():\n",
    "\n",
    "        if url != row[URL_COLUMN]:\n",
    "            url = row[URL_COLUMN]\n",
    "            response = requests.get(url)\n",
    "        \n",
    "        found = False\n",
    "\n",
    "        if (response.text.find(row[QUERY_COLUMN]) != -1):\n",
    "            found = True\n",
    "\n",
    "        final_list.append({\n",
    "            'url': row[URL_COLUMN],\n",
    "            'query': row[QUERY_COLUMN],\n",
    "            'found': found,\n",
    "            'status_code': response.status_code\n",
    "        })\n",
    "\n",
    "final_df = pd.DataFrame(final_list)\n"
   ]
  },
  {
   "cell_type": "markdown",
   "metadata": {},
   "source": [
    "## Exporta planilha"
   ]
  },
  {
   "cell_type": "code",
   "execution_count": 6,
   "metadata": {},
   "outputs": [],
   "source": [
    "final_df.to_excel('saida/saida.xlsx', index=True)"
   ]
  }
 ],
 "metadata": {
  "kernelspec": {
   "display_name": "venv",
   "language": "python",
   "name": "python3"
  },
  "language_info": {
   "codemirror_mode": {
    "name": "ipython",
    "version": 3
   },
   "file_extension": ".py",
   "mimetype": "text/x-python",
   "name": "python",
   "nbconvert_exporter": "python",
   "pygments_lexer": "ipython3",
   "version": "3.10.12"
  }
 },
 "nbformat": 4,
 "nbformat_minor": 2
}
