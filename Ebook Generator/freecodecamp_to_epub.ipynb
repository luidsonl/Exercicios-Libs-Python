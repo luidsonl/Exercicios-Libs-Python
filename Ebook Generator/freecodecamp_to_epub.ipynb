{
 "cells": [
  {
   "cell_type": "markdown",
   "id": "267ecf94-2077-4fb4-a6e9-2ea75dd5922d",
   "metadata": {},
   "source": [
    "# Freecodecamp to Epub"
   ]
  },
  {
   "cell_type": "markdown",
   "id": "8cb60035-3398-469b-a28f-4e27e215df42",
   "metadata": {},
   "source": [
    "## Importa Bibliotecas"
   ]
  },
  {
   "cell_type": "code",
   "execution_count": null,
   "id": "16e6a096-9247-432a-87c2-e67df8521820",
   "metadata": {},
   "outputs": [],
   "source": [
    "import os\n",
    "import requests\n",
    "from bs4 import BeautifulSoup\n",
    "from ebooklib import epub\n",
    "import urllib"
   ]
  },
  {
   "cell_type": "markdown",
   "id": "b41ebf2a-7fd5-40f4-8186-507fa1e5dba5",
   "metadata": {},
   "source": [
    "## Constantes"
   ]
  },
  {
   "cell_type": "code",
   "execution_count": null,
   "id": "f8af0265-01ff-4bc2-9385-312d3bab0968",
   "metadata": {},
   "outputs": [],
   "source": [
    "PROJECT_DIR = os.getcwd()\n",
    "URL = 'https://www.freecodecamp.org/news/gitting-things-done-book/'\n",
    "OUTPUT_DIR = './output/epub/'\n",
    "CHAPTER_TAG = 'h1'"
   ]
  },
  {
   "cell_type": "markdown",
   "id": "9741cf39-d235-42b1-8d2c-9563e07a7fae",
   "metadata": {},
   "source": [
    "## Faz scrapping do HTML"
   ]
  },
  {
   "cell_type": "code",
   "execution_count": null,
   "id": "91c1951f-647f-4372-b0d0-616323a2bd21",
   "metadata": {},
   "outputs": [],
   "source": [
    "response = requests.get(URL)\n",
    "soup = BeautifulSoup(response.content, 'lxml')\n",
    "ebook = epub.EpubBook()"
   ]
  },
  {
   "cell_type": "code",
   "execution_count": null,
   "id": "efc70c30-ca16-4a6c-9f07-6fcfeddedbbb",
   "metadata": {},
   "outputs": [],
   "source": [
    "title = soup.title.text.strip()\n",
    "content = soup.find('section', {'class': 'post-content'});\n",
    "author = soup.find('a', {'data-test-label': 'profile-link'}).text.strip()"
   ]
  },
  {
   "cell_type": "markdown",
   "id": "dc38f325-9787-46e1-8c24-f3a36fba2a88",
   "metadata": {},
   "source": [
    "## Baixa as imagens"
   ]
  },
  {
   "cell_type": "code",
   "execution_count": null,
   "id": "103cbfd6-1ad5-4586-a7ba-c77cf922be88",
   "metadata": {},
   "outputs": [],
   "source": [
    "def get_images_url(html):\n",
    "    url_images = []\n",
    "\n",
    "    for img_tag in content.find_all('img'):\n",
    "        url = img_tag.get('src')\n",
    "        if url:\n",
    "            url_images.append(url)\n",
    "    \n",
    "    return url_images\n",
    "\n",
    "images_url = get_images_url(content)"
   ]
  },
  {
   "cell_type": "code",
   "execution_count": null,
   "id": "76e9b769-6c95-430b-9804-ab2e5c803742",
   "metadata": {},
   "outputs": [],
   "source": [
    "def get_images_local_path(images_url):\n",
    "    base_dir = PROJECT_DIR + '/downloads'\n",
    "    \n",
    "    images_local_path = []\n",
    "\n",
    "    for url in images_url:\n",
    "        parsed_url = urllib.parse.urlparse(url)\n",
    "        domain = parsed_url.netloc\n",
    "        path = parsed_url.path.lstrip('/')\n",
    "        domain_cleaned = ''.join(c if c.isalnum() or c in ['.', '-'] else '_' for c in domain)\n",
    "        file_path = os.path.join(base_dir, domain_cleaned, path)\n",
    "        images_local_path.append(file_path)\n",
    "    \n",
    "    return images_local_path\n",
    "\n",
    "images_local_path = get_images_local_path(images_url)"
   ]
  },
  {
   "cell_type": "code",
   "execution_count": null,
   "id": "5ad3e134-9ad7-4254-9701-cc84eb9f1c6b",
   "metadata": {},
   "outputs": [],
   "source": [
    "def download_images(urls, paths):\n",
    "    if len(urls) != len(paths):\n",
    "        raise ValueError(\"As listas de URLs e paths devem ter o mesmo tamanho.\")\n",
    "    \n",
    "    for url, path in zip(urls, paths):\n",
    "        \n",
    "        os.makedirs(os.path.dirname(path), exist_ok=True)\n",
    "        response = requests.get(url)\n",
    "        \n",
    "        if response.status_code == 200:\n",
    "            with open(path, 'wb') as f:\n",
    "                f.write(response.content)\n",
    "            print(f\"Imagem baixada e salva em {path}\")\n",
    "        else:\n",
    "            print(f\"Falha ao baixar a imagem de {url}\")\n",
    "\n",
    "download_images(images_url, images_local_path)"
   ]
  },
  {
   "cell_type": "markdown",
   "id": "a004221f-3d0d-4d22-a133-f2710a91b903",
   "metadata": {},
   "source": [
    "## Aponta as \"src\" para as imagens baixadas"
   ]
  },
  {
   "cell_type": "code",
   "execution_count": null,
   "id": "66566a83-20d4-421e-ad53-c6ac5d00f5d9",
   "metadata": {},
   "outputs": [],
   "source": [
    "def remove_currrent_dir(path_list):\n",
    "    replaced_paths = []\n",
    "    \n",
    "    for path in path_list:\n",
    "        replaced_paths.append(path.replace(PROJECT_DIR + '/', ''))\n",
    "\n",
    "    return replaced_paths\n",
    "\n",
    "epub_images_path = remove_currrent_dir(images_local_path)"
   ]
  },
  {
   "cell_type": "code",
   "execution_count": null,
   "id": "20971b44-1e13-4905-802e-5bc2a3762bd4",
   "metadata": {},
   "outputs": [],
   "source": [
    "def replace_img_srcs(html, new_srcs):\n",
    "\n",
    "    replaced_html = BeautifulSoup(str(html), 'html.parser')\n",
    "\n",
    "    for idx, img_tag in enumerate(replaced_html.find_all('img')):\n",
    "        if idx < len(images_url):\n",
    "            img_tag['src'] = new_srcs[idx]\n",
    "    \n",
    "    return replaced_html\n",
    "\n",
    "content = replace_img_srcs(content, epub_images_path)"
   ]
  },
  {
   "cell_type": "markdown",
   "id": "ce40e6bc-1363-47f1-91e0-ec84c1923bce",
   "metadata": {},
   "source": [
    "## Gera o eBook"
   ]
  },
  {
   "cell_type": "code",
   "execution_count": null,
   "id": "3a7d1281-a08b-4711-bc5c-45b22327b68c",
   "metadata": {},
   "outputs": [],
   "source": [
    "ebook.add_author(author)\n",
    "ebook.set_title(title)"
   ]
  },
  {
   "cell_type": "markdown",
   "id": "ec31f1b3-b97c-49ee-93e4-fec76792baa8",
   "metadata": {},
   "source": [
    "### Adiciona imagens no ebook"
   ]
  },
  {
   "cell_type": "code",
   "execution_count": null,
   "id": "3ee2bd5e-4603-4eea-8125-36916d66329b",
   "metadata": {},
   "outputs": [],
   "source": [
    "def add_images(book, images_path):\n",
    "    for index, image in enumerate(images_path):\n",
    "        \n",
    "        img = epub.EpubImage(\n",
    "            uid = f\"image{index}\",\n",
    "            file_name = image,\n",
    "            media_type = 'image/gif',\n",
    "            content = open(PROJECT_DIR + '/' + image, \"rb\").read(),\n",
    "        )\n",
    "    \n",
    "        book.add_item(img)\n",
    "\n",
    "add_images(ebook, epub_images_path)"
   ]
  },
  {
   "cell_type": "markdown",
   "id": "d3e78c3b-ad48-4eaa-997a-680143937b40",
   "metadata": {},
   "source": [
    "### Gera os capítulos"
   ]
  },
  {
   "cell_type": "code",
   "execution_count": null,
   "id": "8399d6ea-7950-4b67-8b39-1f5b75c08d8b",
   "metadata": {},
   "outputs": [],
   "source": [
    "def add_chapters(book, html, chapter_tag):\n",
    "    spine = ['nav']\n",
    "    chapters = []\n",
    "    content = BeautifulSoup(str(html), 'html.parser')\n",
    "    chapter_content = ''\n",
    "    \n",
    "    for element in content.find('section').find_all():\n",
    "        \n",
    "        if (element.name == chapter_tag):\n",
    "            \n",
    "            chapters.append(chapter_content)\n",
    "            chapter_content = ''\n",
    "\n",
    "        chapter_content += str(element)\n",
    "    \n",
    "    for index, chapter in enumerate(chapters):\n",
    "        \n",
    "        soup = BeautifulSoup(str(chapter), 'html.parser')\n",
    "        title = soup.find(chapter_tag).text if soup.find(chapter_tag) else ''\n",
    "        c = epub.EpubHtml(title=title, file_name=('chap_' + str(index) + '.xhtml'))\n",
    "        c.content = str(soup)\n",
    "\n",
    "        book.add_item(c)\n",
    "        spine.append(c)\n",
    "\n",
    "    ebook.spine = spine\n",
    "            \n",
    "\n",
    "add_chapters(ebook, content, CHAPTER_TAG)"
   ]
  },
  {
   "cell_type": "markdown",
   "id": "42f2119c-0648-4a1c-874b-2a18b285608b",
   "metadata": {},
   "source": [
    "### Gera o documento"
   ]
  },
  {
   "cell_type": "code",
   "execution_count": null,
   "id": "d46957b6-1008-4db8-9646-7f3c8250edfd",
   "metadata": {},
   "outputs": [],
   "source": [
    "epub.write_epub( OUTPUT_DIR + (title + '.epub'), ebook, {})"
   ]
  }
 ],
 "metadata": {
  "kernelspec": {
   "display_name": "Python 3 (ipykernel)",
   "language": "python",
   "name": "python3"
  },
  "language_info": {
   "codemirror_mode": {
    "name": "ipython",
    "version": 3
   },
   "file_extension": ".py",
   "mimetype": "text/x-python",
   "name": "python",
   "nbconvert_exporter": "python",
   "pygments_lexer": "ipython3",
   "version": "3.10.12"
  }
 },
 "nbformat": 4,
 "nbformat_minor": 5
}
