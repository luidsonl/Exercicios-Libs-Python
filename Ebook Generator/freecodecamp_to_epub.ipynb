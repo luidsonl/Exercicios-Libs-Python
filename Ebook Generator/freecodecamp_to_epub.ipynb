{
 "cells": [
  {
   "cell_type": "markdown",
   "id": "267ecf94-2077-4fb4-a6e9-2ea75dd5922d",
   "metadata": {},
   "source": [
    "# Freecodecamp to Epub"
   ]
  },
  {
   "cell_type": "markdown",
   "id": "8cb60035-3398-469b-a28f-4e27e215df42",
   "metadata": {},
   "source": [
    "## Importa Bibliotecas"
   ]
  },
  {
   "cell_type": "code",
   "execution_count": 1,
   "id": "16e6a096-9247-432a-87c2-e67df8521820",
   "metadata": {},
   "outputs": [],
   "source": [
    "import os\n",
    "import requests\n",
    "from bs4 import BeautifulSoup\n",
    "from ebooklib import epub\n",
    "import urllib"
   ]
  },
  {
   "cell_type": "markdown",
   "id": "b41ebf2a-7fd5-40f4-8186-507fa1e5dba5",
   "metadata": {},
   "source": [
    "## Constantes"
   ]
  },
  {
   "cell_type": "code",
   "execution_count": 2,
   "id": "f8af0265-01ff-4bc2-9385-312d3bab0968",
   "metadata": {},
   "outputs": [],
   "source": [
    "PROJECT_DIR = os.getcwd()\n",
    "URL = 'https://www.freecodecamp.org/news/learn-java-object-oriented-programming/'\n",
    "OUTPUT_DIR = './output/epub/'\n",
    "CHAPTER_TAG = 'h1'"
   ]
  },
  {
   "cell_type": "markdown",
   "id": "dc38f325-9787-46e1-8c24-f3a36fba2a88",
   "metadata": {},
   "source": [
    "## Funções"
   ]
  },
  {
   "cell_type": "code",
   "execution_count": 3,
   "id": "66566a83-20d4-421e-ad53-c6ac5d00f5d9",
   "metadata": {},
   "outputs": [],
   "source": [
    "def remove_currrent_dir(path):\n",
    "    return path.replace(PROJECT_DIR + '/', '')"
   ]
  },
  {
   "cell_type": "code",
   "execution_count": 4,
   "id": "103cbfd6-1ad5-4586-a7ba-c77cf922be88",
   "metadata": {},
   "outputs": [],
   "source": [
    "def get_images_url(html):\n",
    "    url_images = []\n",
    "\n",
    "    for img_tag in content.find_all('img'):\n",
    "        url = img_tag.get('src')\n",
    "        if url:\n",
    "            url_images.append(url)\n",
    "    \n",
    "    return url_images"
   ]
  },
  {
   "cell_type": "code",
   "execution_count": 5,
   "id": "76e9b769-6c95-430b-9804-ab2e5c803742",
   "metadata": {},
   "outputs": [],
   "source": [
    "def url_to_local_path(url):\n",
    "    base_dir = PROJECT_DIR + '/downloads'\n",
    "    \n",
    "    parsed_url = urllib.parse.urlparse(url)\n",
    "    domain = parsed_url.netloc\n",
    "    path = parsed_url.path.lstrip('/')\n",
    "    domain_cleaned = ''.join(c if c.isalnum() or c in ['.', '-'] else '_' for c in domain)\n",
    "    file_path = os.path.join(base_dir, domain_cleaned, path)\n",
    "    \n",
    "    return file_path"
   ]
  },
  {
   "cell_type": "code",
   "execution_count": 6,
   "id": "5ad3e134-9ad7-4254-9701-cc84eb9f1c6b",
   "metadata": {},
   "outputs": [],
   "source": [
    "def download_images(urls):\n",
    "    paths = [url_to_local_path(url) for url in images_url]\n",
    "    downloaded_images = []\n",
    "    \n",
    "    for i, (url, path) in enumerate(zip(urls, paths)):\n",
    "        os.makedirs(os.path.dirname(path), exist_ok=True)\n",
    "        response = requests.get(url)\n",
    "        \n",
    "        if response.status_code == 200:\n",
    "            with open(path, 'wb') as f:\n",
    "                f.write(response.content)\n",
    "            downloaded_images.append(remove_currrent_dir(path))\n",
    "\n",
    "    return downloaded_images"
   ]
  },
  {
   "cell_type": "code",
   "execution_count": 7,
   "id": "20971b44-1e13-4905-802e-5bc2a3762bd4",
   "metadata": {},
   "outputs": [],
   "source": [
    "def replace_img_srcs(html):\n",
    "\n",
    "    soup = BeautifulSoup(str(html), 'html.parser')\n",
    "\n",
    "    for img in soup.find_all('img'):\n",
    "        img['src'] = remove_currrent_dir(url_to_local_path(img['src']))\n",
    "    \n",
    "    return str(soup)"
   ]
  },
  {
   "cell_type": "code",
   "execution_count": 8,
   "id": "3ee2bd5e-4603-4eea-8125-36916d66329b",
   "metadata": {},
   "outputs": [],
   "source": [
    "def add_images(book, images_path):\n",
    "    for index, image in enumerate(images_path):\n",
    "        \n",
    "        img = epub.EpubImage(\n",
    "            uid = f\"image{index}\",\n",
    "            file_name = image,\n",
    "            media_type = 'image/gif',\n",
    "            content = open(image, \"rb\").read(),\n",
    "        )\n",
    "    \n",
    "        book.add_item(img)\n"
   ]
  },
  {
   "cell_type": "code",
   "execution_count": 9,
   "id": "8399d6ea-7950-4b67-8b39-1f5b75c08d8b",
   "metadata": {},
   "outputs": [],
   "source": [
    "def add_chapters(book, html, chapter_tag):\n",
    "    spine = ['nav']\n",
    "    chapters = []\n",
    "    content = BeautifulSoup(str(html), 'html.parser')\n",
    "    chapter_content = ''\n",
    "    \n",
    "    for element in content.find('section').contents:\n",
    "        \n",
    "        if (element.name == chapter_tag):\n",
    "            \n",
    "            chapters.append(chapter_content)\n",
    "            chapter_content = ''\n",
    "\n",
    "        chapter_content += str(element)\n",
    "\n",
    "    chapters.append(chapter_content)\n",
    "        \n",
    "    \n",
    "    for index, chapter in enumerate(chapters):\n",
    "        \n",
    "        soup = BeautifulSoup(str(chapter), 'html.parser')\n",
    "        c_title = soup.find(chapter_tag).text if soup.find(chapter_tag) else ''\n",
    "        c = epub.EpubHtml(title=title, file_name=('chap_' + str(index) + '.xhtml'))\n",
    "        c.content = str(soup)\n",
    "\n",
    "        book.add_item(c)\n",
    "        spine.append(c)\n",
    "\n",
    "    ebook.spine = spine"
   ]
  },
  {
   "cell_type": "markdown",
   "id": "9741cf39-d235-42b1-8d2c-9563e07a7fae",
   "metadata": {},
   "source": [
    "## Faz scrapping do HTML"
   ]
  },
  {
   "cell_type": "code",
   "execution_count": 10,
   "id": "91c1951f-647f-4372-b0d0-616323a2bd21",
   "metadata": {},
   "outputs": [],
   "source": [
    "response = requests.get(URL)\n",
    "soup = BeautifulSoup(response.content, 'lxml')\n",
    "ebook = epub.EpubBook()"
   ]
  },
  {
   "cell_type": "code",
   "execution_count": 11,
   "id": "efc70c30-ca16-4a6c-9f07-6fcfeddedbbb",
   "metadata": {},
   "outputs": [],
   "source": [
    "title = soup.title.text.strip()\n",
    "content = soup.find('section', {'class': 'post-content'});\n",
    "author = soup.find('a', {'data-test-label': 'profile-link'}).text.strip()"
   ]
  },
  {
   "cell_type": "markdown",
   "id": "ce40e6bc-1363-47f1-91e0-ec84c1923bce",
   "metadata": {},
   "source": [
    "## Gera o eBook"
   ]
  },
  {
   "cell_type": "code",
   "execution_count": 12,
   "id": "3a7d1281-a08b-4711-bc5c-45b22327b68c",
   "metadata": {},
   "outputs": [],
   "source": [
    "ebook.add_author(author)\n",
    "ebook.set_title(title)"
   ]
  },
  {
   "cell_type": "markdown",
   "id": "ec31f1b3-b97c-49ee-93e4-fec76792baa8",
   "metadata": {},
   "source": [
    "### Adiciona imagens no ebook"
   ]
  },
  {
   "cell_type": "code",
   "execution_count": 13,
   "id": "9829d016-0468-4016-b848-1d18b3953e46",
   "metadata": {},
   "outputs": [],
   "source": [
    "images_url = get_images_url(content)"
   ]
  },
  {
   "cell_type": "code",
   "execution_count": 14,
   "id": "7ad6d133-d14b-4216-a39b-82190884bc9c",
   "metadata": {},
   "outputs": [],
   "source": [
    "ebook_images_path = download_images(images_url)"
   ]
  },
  {
   "cell_type": "code",
   "execution_count": 15,
   "id": "92ac3513-f4c6-4521-964e-2b8a76c468e1",
   "metadata": {},
   "outputs": [],
   "source": [
    "add_images(ebook, ebook_images_path)"
   ]
  },
  {
   "cell_type": "markdown",
   "id": "d3e78c3b-ad48-4eaa-997a-680143937b40",
   "metadata": {},
   "source": [
    "### Gera os capítulos"
   ]
  },
  {
   "cell_type": "code",
   "execution_count": 16,
   "id": "d5813a07-f601-4a1e-8a89-fb5fb04e2967",
   "metadata": {},
   "outputs": [],
   "source": [
    "ebook_content = replace_img_srcs(content)"
   ]
  },
  {
   "cell_type": "code",
   "execution_count": 17,
   "id": "099037d1-d186-4e54-82eb-9f8f8583691c",
   "metadata": {},
   "outputs": [],
   "source": [
    "add_chapters(ebook, ebook_content, CHAPTER_TAG)"
   ]
  },
  {
   "cell_type": "markdown",
   "id": "42f2119c-0648-4a1c-874b-2a18b285608b",
   "metadata": {},
   "source": [
    "### Gera o documento"
   ]
  },
  {
   "cell_type": "code",
   "execution_count": 18,
   "id": "d46957b6-1008-4db8-9646-7f3c8250edfd",
   "metadata": {},
   "outputs": [
    {
     "name": "stderr",
     "output_type": "stream",
     "text": [
      "/usr/lib/python3.10/zipfile.py:1519: UserWarning: Duplicate name: 'EPUB/downloads/statics.myclickfunnels.com/image/1115938/file/395213cd834187187ded1838a485b206.png'\n",
      "  return self._open_to_write(zinfo, force_zip64=force_zip64)\n"
     ]
    }
   ],
   "source": [
    "epub.write_epub( OUTPUT_DIR + (title + '.epub'), ebook, {})"
   ]
  }
 ],
 "metadata": {
  "kernelspec": {
   "display_name": "Python 3 (ipykernel)",
   "language": "python",
   "name": "python3"
  },
  "language_info": {
   "codemirror_mode": {
    "name": "ipython",
    "version": 3
   },
   "file_extension": ".py",
   "mimetype": "text/x-python",
   "name": "python",
   "nbconvert_exporter": "python",
   "pygments_lexer": "ipython3",
   "version": "3.10.12"
  }
 },
 "nbformat": 4,
 "nbformat_minor": 5
}
