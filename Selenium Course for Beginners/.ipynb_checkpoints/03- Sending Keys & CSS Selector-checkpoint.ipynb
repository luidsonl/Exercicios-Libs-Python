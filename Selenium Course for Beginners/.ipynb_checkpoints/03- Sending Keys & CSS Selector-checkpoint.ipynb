{
 "cells": [
  {
   "cell_type": "markdown",
   "id": "37f889e2",
   "metadata": {},
   "source": [
    "# Sending Keys & CSS Selector"
   ]
  },
  {
   "cell_type": "code",
   "execution_count": 15,
   "id": "eb056698",
   "metadata": {},
   "outputs": [],
   "source": [
    "from selenium import webdriver\n",
    "from selenium.webdriver.common.by import By\n",
    "from selenium.webdriver.common.keys import Keys"
   ]
  },
  {
   "cell_type": "code",
   "execution_count": 19,
   "id": "812def2e",
   "metadata": {},
   "outputs": [],
   "source": [
    "# Pesquisando no mercado livre\n",
    "driver = webdriver.Chrome()\n",
    "\n",
    "driver.get('https://www.mercadolivre.com.br/')\n",
    "\n",
    "#espera página carregar\n",
    "driver.implicitly_wait(10)\n",
    "\n",
    "#Encontra e insere termo na barra de pesquisa\n",
    "search_bar = driver.find_element(By.ID, 'cb1-edit')\n",
    "search_bar.send_keys('Guitarra')\n",
    "\n",
    "# encontrar e clicar no botão de busca\n",
    "search_button = driver.find_element(By.CLASS_NAME, 'nav-search-btn')\n",
    "search_button.click()\n",
    "\n",
    "# aperta a tecla backspace 8 vezes no campo de pesquisa\n",
    "driver.implicitly_wait(10)\n",
    "search_bar = driver.find_element(By.ID, 'cb1-edit')\n",
    "for i in range(8):\n",
    "    search_bar.send_keys(Keys.BACKSPACE)\n"
   ]
  },
  {
   "cell_type": "markdown",
   "id": "b35d9a7c",
   "metadata": {},
   "source": [
    "### CSS selectors"
   ]
  },
  {
   "cell_type": "code",
   "execution_count": 24,
   "id": "68aa47cf",
   "metadata": {},
   "outputs": [],
   "source": [
    "#Abrindo freecodecamp em Português\n",
    "driver = webdriver.Chrome()\n",
    "\n",
    "driver.get('https://www.freecodecamp.org/')\n",
    "\n",
    "driver.implicitly_wait(10)\n",
    "\n",
    "language_button = driver.find_element(By.CSS_SELECTOR, 'button[title=\"Change Language\"]')\n",
    "language_button.click()\n",
    "\n",
    "portugues = driver.find_element(By.CSS_SELECTOR, 'button[data-value=\"portuguese\"]')\n",
    "portugues.click()"
   ]
  }
 ],
 "metadata": {
  "kernelspec": {
   "display_name": "Python 3 (ipykernel)",
   "language": "python",
   "name": "python3"
  },
  "language_info": {
   "codemirror_mode": {
    "name": "ipython",
    "version": 3
   },
   "file_extension": ".py",
   "mimetype": "text/x-python",
   "name": "python",
   "nbconvert_exporter": "python",
   "pygments_lexer": "ipython3",
   "version": "3.10.6"
  }
 },
 "nbformat": 4,
 "nbformat_minor": 5
}
