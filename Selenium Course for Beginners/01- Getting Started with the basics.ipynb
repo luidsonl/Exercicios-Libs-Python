{
 "cells": [
  {
   "cell_type": "markdown",
   "id": "3e06b94c",
   "metadata": {},
   "source": [
    "# Getting Started with the basics "
   ]
  },
  {
   "cell_type": "code",
   "execution_count": 23,
   "id": "266f2100",
   "metadata": {},
   "outputs": [],
   "source": [
    "from selenium import webdriver\n",
    "from selenium.webdriver.common.by import By"
   ]
  },
  {
   "cell_type": "code",
   "execution_count": 24,
   "id": "fced4108",
   "metadata": {},
   "outputs": [],
   "source": [
    "#Toca Iron Maiden\n",
    "driver = webdriver.Chrome()\n",
    "driver.get('https://www.youtube.com/watch?v=dnm2rA0KYOA')\n",
    "button = driver.find_element(By.CLASS_NAME,'ytp-large-play-button')\n",
    "button.click()"
   ]
  },
  {
   "cell_type": "code",
   "execution_count": 26,
   "id": "7a27f78a",
   "metadata": {},
   "outputs": [],
   "source": [
    "# Acessa meu portfolio\n",
    "driver2 = webdriver.Chrome()\n",
    "driver2.get('https://luidsonl.github.io/Portfolio/')\n",
    "driver2.implicitly_wait(30) #configura uma espera implícita (implicit wait) de até 30 segundos\n",
    "button = driver2.find_element(By.ID,'portfolio')\n",
    "button.click()"
   ]
  }
 ],
 "metadata": {
  "kernelspec": {
   "display_name": "Python 3 (ipykernel)",
   "language": "python",
   "name": "python3"
  },
  "language_info": {
   "codemirror_mode": {
    "name": "ipython",
    "version": 3
   },
   "file_extension": ".py",
   "mimetype": "text/x-python",
   "name": "python",
   "nbconvert_exporter": "python",
   "pygments_lexer": "ipython3",
   "version": "3.10.6"
  }
 },
 "nbformat": 4,
 "nbformat_minor": 5
}
