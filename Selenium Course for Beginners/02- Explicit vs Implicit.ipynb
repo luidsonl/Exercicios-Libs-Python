{
 "cells": [
  {
   "cell_type": "markdown",
   "id": "97e1175e",
   "metadata": {},
   "source": [
    "# Explicit vs Implicit"
   ]
  },
  {
   "cell_type": "code",
   "execution_count": 8,
   "id": "c80a1b0f",
   "metadata": {},
   "outputs": [],
   "source": [
    "from selenium import webdriver\n",
    "from selenium.webdriver.common.by import By\n",
    "from selenium.webdriver.support.ui import WebDriverWait #permite aguardar por uma determinada condição antes de prosseguir com a execução do código.\n",
    "from selenium.webdriver.support import expected_conditions as EC # contém diversas condições predefinidas que podem ser usadas com WebDriverWait para aguardar por elementos, valores, URLs e outras condições específicas, facilitando a escrita de testes.\n",
    "\n"
   ]
  },
  {
   "cell_type": "code",
   "execution_count": 12,
   "id": "e9bc2e6e",
   "metadata": {},
   "outputs": [
    {
     "name": "stdout",
     "output_type": "stream",
     "text": [
      "QUE HAJA TRABALHO, DESCANSO, DIVERSÃO, CARINHO E PAZ NA TUA VIDA.\n"
     ]
    }
   ],
   "source": [
    "#Pegando frase aleatória e exibindo a frase com print\n",
    "driver = webdriver.Chrome()\n",
    "driver.get('https://www.geradordefrasesaleatorias.com/')\n",
    "button = driver.find_element(By.ID,'myLuckyPost')\n",
    "button.click()\n",
    "driver.implicitly_wait(30)\n",
    "frase = driver.find_element(By.CLASS_NAME, 'post-title')\n",
    "\n",
    "print(f\"{frase.text}\")"
   ]
  },
  {
   "cell_type": "code",
   "execution_count": 23,
   "id": "a9c12356",
   "metadata": {},
   "outputs": [
    {
     "name": "stdout",
     "output_type": "stream",
     "text": [
      "Nova imagem pronta para ser gerada!\n"
     ]
    }
   ],
   "source": [
    "# Gera uma imagem e avisa quando é possível gerar outra\n",
    "driver = webdriver.Chrome()\n",
    "\n",
    "# acessar a página com a imagem gerada aleatoriamente\n",
    "driver.get('https://this-person-does-not-exist.com/en')\n",
    "\n",
    "# localizar o botão de recarregamento e clicá-lo\n",
    "button = driver.find_element(By.ID, 'reload-button')\n",
    "button.click()\n",
    "\n",
    "# aguardar até que o texto \"Refresh Image\" esteja presente no elemento com ID \"reload-text\"\n",
    "if WebDriverWait(driver,30).until(\n",
    "        EC.text_to_be_present_in_element(\n",
    "            (By.ID, 'reload-text'), #Filtragem de elemento\n",
    "            'Refresh Image' #elemento esperado\n",
    "        )\n",
    "    ):\n",
    "    print('Nova imagem pronta para ser gerada!')"
   ]
  }
 ],
 "metadata": {
  "kernelspec": {
   "display_name": "Python 3 (ipykernel)",
   "language": "python",
   "name": "python3"
  },
  "language_info": {
   "codemirror_mode": {
    "name": "ipython",
    "version": 3
   },
   "file_extension": ".py",
   "mimetype": "text/x-python",
   "name": "python",
   "nbconvert_exporter": "python",
   "pygments_lexer": "ipython3",
   "version": "3.10.6"
  }
 },
 "nbformat": 4,
 "nbformat_minor": 5
}
